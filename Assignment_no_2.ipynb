{
  "nbformat": 4,
  "nbformat_minor": 0,
  "metadata": {
    "colab": {
      "name": "Assignment no 2.ipynb",
      "provenance": []
    },
    "kernelspec": {
      "name": "python3",
      "display_name": "Python 3"
    },
    "language_info": {
      "name": "python"
    }
  },
  "cells": [
    {
      "cell_type": "markdown",
      "metadata": {
        "id": "nQOtXY258_YX"
      },
      "source": [
        "**#Task 2**\n",
        "\n",
        "**Registration/Referral id : SIRSS2234**\n",
        "\n",
        "**Full name : Sumit Raosaheb Deshmukh**"
      ]
    },
    {
      "cell_type": "markdown",
      "metadata": {
        "id": "PSgfEWr59gjL"
      },
      "source": [
        "**Q.1 Write a lambda expression to extract first word of a string.**"
      ]
    },
    {
      "cell_type": "code",
      "metadata": {
        "colab": {
          "base_uri": "https://localhost:8080/"
        },
        "id": "3jfAU3nF9kiH",
        "outputId": "62bd94fc-b768-49ec-d3db-a805b682d35e"
      },
      "source": [
        "a = 'They call me master.'\n",
        "x = lambda s : s.split()[0]\n",
        "print(x(a))"
      ],
      "execution_count": 14,
      "outputs": [
        {
          "output_type": "stream",
          "text": [
            "They\n"
          ],
          "name": "stdout"
        }
      ]
    },
    {
      "cell_type": "markdown",
      "metadata": {
        "id": "bsrE-XX_9vc2"
      },
      "source": [
        "**Q.2 Write a function to extract first word of s string (with many words separated by space).**"
      ]
    },
    {
      "cell_type": "code",
      "metadata": {
        "colab": {
          "base_uri": "https://localhost:8080/"
        },
        "id": "z5AiMM6R-Fpn",
        "outputId": "46353eba-5645-4fa4-f6bd-5bafe6a0db61"
      },
      "source": [
        "a = \"Write a function to extract first word of s string (with many words separated by space).\"\n",
        "def func(s):\n",
        "  return s.split()[0]\n",
        "print(func(a))"
      ],
      "execution_count": 15,
      "outputs": [
        {
          "output_type": "stream",
          "text": [
            "Write\n"
          ],
          "name": "stdout"
        }
      ]
    },
    {
      "cell_type": "markdown",
      "metadata": {
        "id": "1rCMWqr7-L2w"
      },
      "source": [
        "**Q.3 Extract the first word from every string from a list of strings by using map function.**"
      ]
    },
    {
      "cell_type": "code",
      "metadata": {
        "colab": {
          "base_uri": "https://localhost:8080/"
        },
        "id": "y3UpVzrp-QKv",
        "outputId": "329aa591-7075-4c07-f7a0-f49b0ae0c564"
      },
      "source": [
        "l = ['Iron Man', 'Captain America', 'Doctor Strange']\n",
        "list(map(func,l))"
      ],
      "execution_count": 16,
      "outputs": [
        {
          "output_type": "execute_result",
          "data": {
            "text/plain": [
              "['Iron', 'Captain', 'Doctor']"
            ]
          },
          "metadata": {
            "tags": []
          },
          "execution_count": 16
        }
      ]
    },
    {
      "cell_type": "markdown",
      "metadata": {
        "id": "mSd3pQQT-aOR"
      },
      "source": [
        "**Q.4 Write a function to return a list of prime factors of a given number.**"
      ]
    },
    {
      "cell_type": "code",
      "metadata": {
        "colab": {
          "base_uri": "https://localhost:8080/"
        },
        "id": "H1FLKsmD-eE2",
        "outputId": "7c3406dd-a13f-4700-af90-b9ab1ab69cbf"
      },
      "source": [
        "def PrimeFactor(x):\n",
        "    prime_fact = []\n",
        "    d = 2\n",
        "\n",
        "    while d <= x:\n",
        "        if x % d == 0:\n",
        "            prime_fact.append(d)\n",
        "            x = x/d\n",
        "        else:\n",
        "            d += 1\n",
        "    return prime_fact\n",
        "\n",
        "print(PrimeFactor(756))"
      ],
      "execution_count": 17,
      "outputs": [
        {
          "output_type": "stream",
          "text": [
            "[2, 2, 3, 3, 3, 7]\n"
          ],
          "name": "stdout"
        }
      ]
    },
    {
      "cell_type": "markdown",
      "metadata": {
        "id": "FYg8_0lp-pl5"
      },
      "source": [
        "**Q.5 Write a function that finds 2nd largest among 4 numbers (Repetitions are allowed, without sorting).**"
      ]
    },
    {
      "cell_type": "code",
      "metadata": {
        "colab": {
          "base_uri": "https://localhost:8080/"
        },
        "id": "J-aPAuT5-yzC",
        "outputId": "44b90e29-f18e-496d-d8fa-f92ecaab4e0b"
      },
      "source": [
        "a = []\n",
        "for i in range(5):\n",
        "  b = int(input(\"ENter 5 numbers :  \"))\n",
        "  a.append(b)\n",
        "c = set(a)\n",
        "c.remove(max(c))\n",
        "print(max(c))"
      ],
      "execution_count": 18,
      "outputs": [
        {
          "output_type": "stream",
          "text": [
            "ENter 5 numbers :  989\n",
            "ENter 5 numbers :  258\n",
            "ENter 5 numbers :  1000\n",
            "ENter 5 numbers :  125\n",
            "ENter 5 numbers :  252\n",
            "989\n"
          ],
          "name": "stdout"
        }
      ]
    }
  ]
}